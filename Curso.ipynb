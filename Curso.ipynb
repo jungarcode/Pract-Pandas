{
 "cells": [
  {
   "cell_type": "markdown",
   "id": "0fb0cb36-9fc8-4c2f-87c8-da4ba1c0e861",
   "metadata": {},
   "source": [
    "### CURSO DE PANDAS"
   ]
  },
  {
   "cell_type": "markdown",
   "id": "70fffb67-628f-4ce6-aa16-aa15c94242d6",
   "metadata": {},
   "source": [
    "## Series"
   ]
  },
  {
   "cell_type": "code",
   "execution_count": 1,
   "id": "52795482-5e2d-47d1-823d-b4e34c882e2c",
   "metadata": {},
   "outputs": [],
   "source": [
    "import pandas as pd\n",
    "import numpy as np"
   ]
  },
  {
   "cell_type": "code",
   "execution_count": 2,
   "id": "cbe09d2b-8d2b-4ed2-b5cb-0f0fc3d2efa0",
   "metadata": {},
   "outputs": [
    {
     "data": {
      "text/plain": [
       "0    4\n",
       "1    7\n",
       "2   -3\n",
       "3    8\n",
       "dtype: int64"
      ]
     },
     "execution_count": 2,
     "metadata": {},
     "output_type": "execute_result"
    }
   ],
   "source": [
    "obj = pd.Series([4,7,-3,8])\n",
    "obj"
   ]
  },
  {
   "cell_type": "code",
   "execution_count": 3,
   "id": "88428809-fcb8-4faf-ac22-be945f8ebd91",
   "metadata": {},
   "outputs": [
    {
     "data": {
      "text/plain": [
       "array([ 4,  7, -3,  8])"
      ]
     },
     "execution_count": 3,
     "metadata": {},
     "output_type": "execute_result"
    }
   ],
   "source": [
    "obj.values"
   ]
  },
  {
   "cell_type": "code",
   "execution_count": 4,
   "id": "14582e39-316c-42d0-a811-5584d34159d1",
   "metadata": {},
   "outputs": [
    {
     "data": {
      "text/plain": [
       "RangeIndex(start=0, stop=4, step=1)"
      ]
     },
     "execution_count": 4,
     "metadata": {},
     "output_type": "execute_result"
    }
   ],
   "source": [
    "obj.index"
   ]
  },
  {
   "cell_type": "code",
   "execution_count": 5,
   "id": "652eff12-d562-4461-9f2c-c951425ec38b",
   "metadata": {},
   "outputs": [
    {
     "data": {
      "text/plain": [
       "a    4\n",
       "b    7\n",
       "c   -3\n",
       "d    8\n",
       "dtype: int64"
      ]
     },
     "execution_count": 5,
     "metadata": {},
     "output_type": "execute_result"
    }
   ],
   "source": [
    "obj2 = pd.Series([4,7,-3,8], index = [\"a\",\"b\",\"c\",\"d\"])\n",
    "obj2"
   ]
  },
  {
   "cell_type": "code",
   "execution_count": 6,
   "id": "2236c1ed-c857-47f1-aa17-222db08f645a",
   "metadata": {},
   "outputs": [
    {
     "data": {
      "text/plain": [
       "-3"
      ]
     },
     "execution_count": 6,
     "metadata": {},
     "output_type": "execute_result"
    }
   ],
   "source": [
    "obj2[\"c\"]"
   ]
  },
  {
   "cell_type": "code",
   "execution_count": 7,
   "id": "83f895ca-631a-43e7-b8aa-b9b6112afc12",
   "metadata": {},
   "outputs": [
    {
     "data": {
      "text/plain": [
       "a    4\n",
       "b    7\n",
       "d    8\n",
       "dtype: int64"
      ]
     },
     "execution_count": 7,
     "metadata": {},
     "output_type": "execute_result"
    }
   ],
   "source": [
    "obj2[obj2>0]"
   ]
  },
  {
   "cell_type": "code",
   "execution_count": 8,
   "id": "99b29f7c-922a-47cc-9204-a24742ca36ed",
   "metadata": {},
   "outputs": [
    {
     "data": {
      "text/plain": [
       "a     8\n",
       "b    14\n",
       "c    -6\n",
       "d    16\n",
       "dtype: int64"
      ]
     },
     "execution_count": 8,
     "metadata": {},
     "output_type": "execute_result"
    }
   ],
   "source": [
    "obj2*2"
   ]
  },
  {
   "cell_type": "code",
   "execution_count": 9,
   "id": "b60cfb7b-aa62-4912-abbc-8d789d0c71c3",
   "metadata": {},
   "outputs": [
    {
     "data": {
      "text/plain": [
       "venezuela     3000\n",
       "colombia     50000\n",
       "peru         60000\n",
       "dtype: int64"
      ]
     },
     "execution_count": 9,
     "metadata": {},
     "output_type": "execute_result"
    }
   ],
   "source": [
    "data = {\"venezuela\":3000,\"colombia\":50000,\"peru\":60000}\n",
    "obj3 = pd.Series(data)\n",
    "obj3"
   ]
  },
  {
   "cell_type": "markdown",
   "id": "6e5e3000-3352-4033-a432-40cb079d8eff",
   "metadata": {},
   "source": [
    "### Dataframe"
   ]
  },
  {
   "cell_type": "code",
   "execution_count": 10,
   "id": "6f64ebd3-d7a3-4824-85b7-5467bd7e4405",
   "metadata": {},
   "outputs": [
    {
     "data": {
      "text/html": [
       "<div>\n",
       "<style scoped>\n",
       "    .dataframe tbody tr th:only-of-type {\n",
       "        vertical-align: middle;\n",
       "    }\n",
       "\n",
       "    .dataframe tbody tr th {\n",
       "        vertical-align: top;\n",
       "    }\n",
       "\n",
       "    .dataframe thead th {\n",
       "        text-align: right;\n",
       "    }\n",
       "</style>\n",
       "<table border=\"1\" class=\"dataframe\">\n",
       "  <thead>\n",
       "    <tr style=\"text-align: right;\">\n",
       "      <th></th>\n",
       "      <th>pais</th>\n",
       "      <th>años</th>\n",
       "      <th>valor</th>\n",
       "    </tr>\n",
       "  </thead>\n",
       "  <tbody>\n",
       "    <tr>\n",
       "      <th>0</th>\n",
       "      <td>venezuela</td>\n",
       "      <td>1990</td>\n",
       "      <td>1.5</td>\n",
       "    </tr>\n",
       "    <tr>\n",
       "      <th>1</th>\n",
       "      <td>venezuela</td>\n",
       "      <td>2000</td>\n",
       "      <td>2.0</td>\n",
       "    </tr>\n",
       "    <tr>\n",
       "      <th>2</th>\n",
       "      <td>venezuela</td>\n",
       "      <td>2001</td>\n",
       "      <td>2.1</td>\n",
       "    </tr>\n",
       "    <tr>\n",
       "      <th>3</th>\n",
       "      <td>colombia</td>\n",
       "      <td>2002</td>\n",
       "      <td>2.2</td>\n",
       "    </tr>\n",
       "    <tr>\n",
       "      <th>4</th>\n",
       "      <td>colombia</td>\n",
       "      <td>2003</td>\n",
       "      <td>2.3</td>\n",
       "    </tr>\n",
       "    <tr>\n",
       "      <th>5</th>\n",
       "      <td>colombia</td>\n",
       "      <td>2004</td>\n",
       "      <td>2.4</td>\n",
       "    </tr>\n",
       "    <tr>\n",
       "      <th>6</th>\n",
       "      <td>peru</td>\n",
       "      <td>2005</td>\n",
       "      <td>2.5</td>\n",
       "    </tr>\n",
       "    <tr>\n",
       "      <th>7</th>\n",
       "      <td>bolivia</td>\n",
       "      <td>2006</td>\n",
       "      <td>2.6</td>\n",
       "    </tr>\n",
       "  </tbody>\n",
       "</table>\n",
       "</div>"
      ],
      "text/plain": [
       "        pais  años  valor\n",
       "0  venezuela  1990    1.5\n",
       "1  venezuela  2000    2.0\n",
       "2  venezuela  2001    2.1\n",
       "3   colombia  2002    2.2\n",
       "4   colombia  2003    2.3\n",
       "5   colombia  2004    2.4\n",
       "6       peru  2005    2.5\n",
       "7    bolivia  2006    2.6"
      ]
     },
     "execution_count": 10,
     "metadata": {},
     "output_type": "execute_result"
    }
   ],
   "source": [
    "data = {\"pais\":[\"venezuela\",\"venezuela\",\"venezuela\",\"colombia\",\"colombia\",\"colombia\",\"peru\",\"bolivia\"],\n",
    "        \"años\":[1990,2000,2001,2002,2003,2004,2005,2006],\n",
    "       \"valor\":[1.5,2.0,2.1,2.2,2.3,2.4,2.5,2.6]}\n",
    "df = pd.DataFrame(data)\n",
    "df"
   ]
  },
  {
   "cell_type": "code",
   "execution_count": 11,
   "id": "adeaea05-b04c-4b0b-be75-a0a7b7aab8a3",
   "metadata": {},
   "outputs": [
    {
     "data": {
      "text/html": [
       "<div>\n",
       "<style scoped>\n",
       "    .dataframe tbody tr th:only-of-type {\n",
       "        vertical-align: middle;\n",
       "    }\n",
       "\n",
       "    .dataframe tbody tr th {\n",
       "        vertical-align: top;\n",
       "    }\n",
       "\n",
       "    .dataframe thead th {\n",
       "        text-align: right;\n",
       "    }\n",
       "</style>\n",
       "<table border=\"1\" class=\"dataframe\">\n",
       "  <thead>\n",
       "    <tr style=\"text-align: right;\">\n",
       "      <th></th>\n",
       "      <th>pais</th>\n",
       "      <th>años</th>\n",
       "      <th>valor</th>\n",
       "    </tr>\n",
       "  </thead>\n",
       "  <tbody>\n",
       "    <tr>\n",
       "      <th>0</th>\n",
       "      <td>venezuela</td>\n",
       "      <td>1990</td>\n",
       "      <td>1.5</td>\n",
       "    </tr>\n",
       "    <tr>\n",
       "      <th>1</th>\n",
       "      <td>venezuela</td>\n",
       "      <td>2000</td>\n",
       "      <td>2.0</td>\n",
       "    </tr>\n",
       "    <tr>\n",
       "      <th>2</th>\n",
       "      <td>venezuela</td>\n",
       "      <td>2001</td>\n",
       "      <td>2.1</td>\n",
       "    </tr>\n",
       "    <tr>\n",
       "      <th>3</th>\n",
       "      <td>colombia</td>\n",
       "      <td>2002</td>\n",
       "      <td>2.2</td>\n",
       "    </tr>\n",
       "    <tr>\n",
       "      <th>4</th>\n",
       "      <td>colombia</td>\n",
       "      <td>2003</td>\n",
       "      <td>2.3</td>\n",
       "    </tr>\n",
       "  </tbody>\n",
       "</table>\n",
       "</div>"
      ],
      "text/plain": [
       "        pais  años  valor\n",
       "0  venezuela  1990    1.5\n",
       "1  venezuela  2000    2.0\n",
       "2  venezuela  2001    2.1\n",
       "3   colombia  2002    2.2\n",
       "4   colombia  2003    2.3"
      ]
     },
     "execution_count": 11,
     "metadata": {},
     "output_type": "execute_result"
    }
   ],
   "source": [
    "df.head()"
   ]
  },
  {
   "cell_type": "code",
   "execution_count": 12,
   "id": "02111198-ef49-43c8-90e9-e4b676898233",
   "metadata": {},
   "outputs": [
    {
     "data": {
      "text/html": [
       "<div>\n",
       "<style scoped>\n",
       "    .dataframe tbody tr th:only-of-type {\n",
       "        vertical-align: middle;\n",
       "    }\n",
       "\n",
       "    .dataframe tbody tr th {\n",
       "        vertical-align: top;\n",
       "    }\n",
       "\n",
       "    .dataframe thead th {\n",
       "        text-align: right;\n",
       "    }\n",
       "</style>\n",
       "<table border=\"1\" class=\"dataframe\">\n",
       "  <thead>\n",
       "    <tr style=\"text-align: right;\">\n",
       "      <th></th>\n",
       "      <th>pais</th>\n",
       "      <th>años</th>\n",
       "      <th>valor</th>\n",
       "    </tr>\n",
       "  </thead>\n",
       "  <tbody>\n",
       "    <tr>\n",
       "      <th>3</th>\n",
       "      <td>colombia</td>\n",
       "      <td>2002</td>\n",
       "      <td>2.2</td>\n",
       "    </tr>\n",
       "    <tr>\n",
       "      <th>4</th>\n",
       "      <td>colombia</td>\n",
       "      <td>2003</td>\n",
       "      <td>2.3</td>\n",
       "    </tr>\n",
       "    <tr>\n",
       "      <th>5</th>\n",
       "      <td>colombia</td>\n",
       "      <td>2004</td>\n",
       "      <td>2.4</td>\n",
       "    </tr>\n",
       "    <tr>\n",
       "      <th>6</th>\n",
       "      <td>peru</td>\n",
       "      <td>2005</td>\n",
       "      <td>2.5</td>\n",
       "    </tr>\n",
       "    <tr>\n",
       "      <th>7</th>\n",
       "      <td>bolivia</td>\n",
       "      <td>2006</td>\n",
       "      <td>2.6</td>\n",
       "    </tr>\n",
       "  </tbody>\n",
       "</table>\n",
       "</div>"
      ],
      "text/plain": [
       "       pais  años  valor\n",
       "3  colombia  2002    2.2\n",
       "4  colombia  2003    2.3\n",
       "5  colombia  2004    2.4\n",
       "6      peru  2005    2.5\n",
       "7   bolivia  2006    2.6"
      ]
     },
     "execution_count": 12,
     "metadata": {},
     "output_type": "execute_result"
    }
   ],
   "source": [
    "df.tail()"
   ]
  },
  {
   "cell_type": "code",
   "execution_count": 13,
   "id": "fab8f157-120a-404b-b0db-308db5af5daf",
   "metadata": {},
   "outputs": [
    {
     "data": {
      "text/html": [
       "<div>\n",
       "<style scoped>\n",
       "    .dataframe tbody tr th:only-of-type {\n",
       "        vertical-align: middle;\n",
       "    }\n",
       "\n",
       "    .dataframe tbody tr th {\n",
       "        vertical-align: top;\n",
       "    }\n",
       "\n",
       "    .dataframe thead th {\n",
       "        text-align: right;\n",
       "    }\n",
       "</style>\n",
       "<table border=\"1\" class=\"dataframe\">\n",
       "  <thead>\n",
       "    <tr style=\"text-align: right;\">\n",
       "      <th></th>\n",
       "      <th>años</th>\n",
       "      <th>pais</th>\n",
       "      <th>valor</th>\n",
       "    </tr>\n",
       "  </thead>\n",
       "  <tbody>\n",
       "    <tr>\n",
       "      <th>0</th>\n",
       "      <td>1990</td>\n",
       "      <td>venezuela</td>\n",
       "      <td>1.5</td>\n",
       "    </tr>\n",
       "    <tr>\n",
       "      <th>1</th>\n",
       "      <td>2000</td>\n",
       "      <td>venezuela</td>\n",
       "      <td>2.0</td>\n",
       "    </tr>\n",
       "    <tr>\n",
       "      <th>2</th>\n",
       "      <td>2001</td>\n",
       "      <td>venezuela</td>\n",
       "      <td>2.1</td>\n",
       "    </tr>\n",
       "    <tr>\n",
       "      <th>3</th>\n",
       "      <td>2002</td>\n",
       "      <td>colombia</td>\n",
       "      <td>2.2</td>\n",
       "    </tr>\n",
       "    <tr>\n",
       "      <th>4</th>\n",
       "      <td>2003</td>\n",
       "      <td>colombia</td>\n",
       "      <td>2.3</td>\n",
       "    </tr>\n",
       "    <tr>\n",
       "      <th>5</th>\n",
       "      <td>2004</td>\n",
       "      <td>colombia</td>\n",
       "      <td>2.4</td>\n",
       "    </tr>\n",
       "    <tr>\n",
       "      <th>6</th>\n",
       "      <td>2005</td>\n",
       "      <td>peru</td>\n",
       "      <td>2.5</td>\n",
       "    </tr>\n",
       "    <tr>\n",
       "      <th>7</th>\n",
       "      <td>2006</td>\n",
       "      <td>bolivia</td>\n",
       "      <td>2.6</td>\n",
       "    </tr>\n",
       "  </tbody>\n",
       "</table>\n",
       "</div>"
      ],
      "text/plain": [
       "   años       pais  valor\n",
       "0  1990  venezuela    1.5\n",
       "1  2000  venezuela    2.0\n",
       "2  2001  venezuela    2.1\n",
       "3  2002   colombia    2.2\n",
       "4  2003   colombia    2.3\n",
       "5  2004   colombia    2.4\n",
       "6  2005       peru    2.5\n",
       "7  2006    bolivia    2.6"
      ]
     },
     "execution_count": 13,
     "metadata": {},
     "output_type": "execute_result"
    }
   ],
   "source": [
    "pd.DataFrame(data, columns =[\"años\",\"pais\",\"valor\"])"
   ]
  },
  {
   "cell_type": "code",
   "execution_count": 14,
   "id": "a6c9f311-1c98-4db6-b3d8-3a7bd0f9b020",
   "metadata": {},
   "outputs": [
    {
     "data": {
      "text/html": [
       "<div>\n",
       "<style scoped>\n",
       "    .dataframe tbody tr th:only-of-type {\n",
       "        vertical-align: middle;\n",
       "    }\n",
       "\n",
       "    .dataframe tbody tr th {\n",
       "        vertical-align: top;\n",
       "    }\n",
       "\n",
       "    .dataframe thead th {\n",
       "        text-align: right;\n",
       "    }\n",
       "</style>\n",
       "<table border=\"1\" class=\"dataframe\">\n",
       "  <thead>\n",
       "    <tr style=\"text-align: right;\">\n",
       "      <th></th>\n",
       "      <th>años</th>\n",
       "      <th>pais</th>\n",
       "      <th>valor</th>\n",
       "      <th>cant</th>\n",
       "    </tr>\n",
       "  </thead>\n",
       "  <tbody>\n",
       "    <tr>\n",
       "      <th>uno</th>\n",
       "      <td>1990</td>\n",
       "      <td>venezuela</td>\n",
       "      <td>1.5</td>\n",
       "      <td>NaN</td>\n",
       "    </tr>\n",
       "    <tr>\n",
       "      <th>dos</th>\n",
       "      <td>2000</td>\n",
       "      <td>venezuela</td>\n",
       "      <td>2.0</td>\n",
       "      <td>NaN</td>\n",
       "    </tr>\n",
       "    <tr>\n",
       "      <th>tres</th>\n",
       "      <td>2001</td>\n",
       "      <td>venezuela</td>\n",
       "      <td>2.1</td>\n",
       "      <td>NaN</td>\n",
       "    </tr>\n",
       "    <tr>\n",
       "      <th>cuatro</th>\n",
       "      <td>2002</td>\n",
       "      <td>colombia</td>\n",
       "      <td>2.2</td>\n",
       "      <td>NaN</td>\n",
       "    </tr>\n",
       "    <tr>\n",
       "      <th>cinco</th>\n",
       "      <td>2003</td>\n",
       "      <td>colombia</td>\n",
       "      <td>2.3</td>\n",
       "      <td>NaN</td>\n",
       "    </tr>\n",
       "    <tr>\n",
       "      <th>seis</th>\n",
       "      <td>2004</td>\n",
       "      <td>colombia</td>\n",
       "      <td>2.4</td>\n",
       "      <td>NaN</td>\n",
       "    </tr>\n",
       "    <tr>\n",
       "      <th>siete</th>\n",
       "      <td>2005</td>\n",
       "      <td>peru</td>\n",
       "      <td>2.5</td>\n",
       "      <td>NaN</td>\n",
       "    </tr>\n",
       "    <tr>\n",
       "      <th>ocho</th>\n",
       "      <td>2006</td>\n",
       "      <td>bolivia</td>\n",
       "      <td>2.6</td>\n",
       "      <td>NaN</td>\n",
       "    </tr>\n",
       "  </tbody>\n",
       "</table>\n",
       "</div>"
      ],
      "text/plain": [
       "        años       pais  valor cant\n",
       "uno     1990  venezuela    1.5  NaN\n",
       "dos     2000  venezuela    2.0  NaN\n",
       "tres    2001  venezuela    2.1  NaN\n",
       "cuatro  2002   colombia    2.2  NaN\n",
       "cinco   2003   colombia    2.3  NaN\n",
       "seis    2004   colombia    2.4  NaN\n",
       "siete   2005       peru    2.5  NaN\n",
       "ocho    2006    bolivia    2.6  NaN"
      ]
     },
     "execution_count": 14,
     "metadata": {},
     "output_type": "execute_result"
    }
   ],
   "source": [
    "df2 = pd.DataFrame(data, columns =[\"años\",\"pais\",\"valor\",\"cant\"], \n",
    "                   index = [\"uno\",\"dos\",\"tres\",\"cuatro\",\"cinco\",\"seis\",\"siete\",\"ocho\"])\n",
    "df2"
   ]
  },
  {
   "cell_type": "code",
   "execution_count": 15,
   "id": "b4a2b310-cec0-41c0-96d5-2e00c2017c47",
   "metadata": {},
   "outputs": [
    {
     "data": {
      "text/plain": [
       "Index(['años', 'pais', 'valor', 'cant'], dtype='object')"
      ]
     },
     "execution_count": 15,
     "metadata": {},
     "output_type": "execute_result"
    }
   ],
   "source": [
    "df2.columns"
   ]
  },
  {
   "cell_type": "code",
   "execution_count": 16,
   "id": "e605110c-1918-44e1-b914-8431656ae48b",
   "metadata": {},
   "outputs": [
    {
     "data": {
      "text/plain": [
       "uno       venezuela\n",
       "dos       venezuela\n",
       "tres      venezuela\n",
       "cuatro     colombia\n",
       "cinco      colombia\n",
       "seis       colombia\n",
       "siete          peru\n",
       "ocho        bolivia\n",
       "Name: pais, dtype: object"
      ]
     },
     "execution_count": 16,
     "metadata": {},
     "output_type": "execute_result"
    }
   ],
   "source": [
    "df2[\"pais\"]"
   ]
  },
  {
   "cell_type": "code",
   "execution_count": 17,
   "id": "dc9b1645-40ad-48fc-9621-e9de0683ded9",
   "metadata": {},
   "outputs": [
    {
     "data": {
      "text/html": [
       "<div>\n",
       "<style scoped>\n",
       "    .dataframe tbody tr th:only-of-type {\n",
       "        vertical-align: middle;\n",
       "    }\n",
       "\n",
       "    .dataframe tbody tr th {\n",
       "        vertical-align: top;\n",
       "    }\n",
       "\n",
       "    .dataframe thead th {\n",
       "        text-align: right;\n",
       "    }\n",
       "</style>\n",
       "<table border=\"1\" class=\"dataframe\">\n",
       "  <thead>\n",
       "    <tr style=\"text-align: right;\">\n",
       "      <th></th>\n",
       "      <th>años</th>\n",
       "      <th>pais</th>\n",
       "      <th>valor</th>\n",
       "      <th>cant</th>\n",
       "    </tr>\n",
       "  </thead>\n",
       "  <tbody>\n",
       "    <tr>\n",
       "      <th>uno</th>\n",
       "      <td>1990</td>\n",
       "      <td>venezuela</td>\n",
       "      <td>1.5</td>\n",
       "      <td>1</td>\n",
       "    </tr>\n",
       "    <tr>\n",
       "      <th>dos</th>\n",
       "      <td>2000</td>\n",
       "      <td>venezuela</td>\n",
       "      <td>2.0</td>\n",
       "      <td>1</td>\n",
       "    </tr>\n",
       "    <tr>\n",
       "      <th>tres</th>\n",
       "      <td>2001</td>\n",
       "      <td>venezuela</td>\n",
       "      <td>2.1</td>\n",
       "      <td>1</td>\n",
       "    </tr>\n",
       "    <tr>\n",
       "      <th>cuatro</th>\n",
       "      <td>2002</td>\n",
       "      <td>colombia</td>\n",
       "      <td>2.2</td>\n",
       "      <td>1</td>\n",
       "    </tr>\n",
       "    <tr>\n",
       "      <th>cinco</th>\n",
       "      <td>2003</td>\n",
       "      <td>colombia</td>\n",
       "      <td>2.3</td>\n",
       "      <td>1</td>\n",
       "    </tr>\n",
       "    <tr>\n",
       "      <th>seis</th>\n",
       "      <td>2004</td>\n",
       "      <td>colombia</td>\n",
       "      <td>2.4</td>\n",
       "      <td>1</td>\n",
       "    </tr>\n",
       "    <tr>\n",
       "      <th>siete</th>\n",
       "      <td>2005</td>\n",
       "      <td>peru</td>\n",
       "      <td>2.5</td>\n",
       "      <td>1</td>\n",
       "    </tr>\n",
       "    <tr>\n",
       "      <th>ocho</th>\n",
       "      <td>2006</td>\n",
       "      <td>bolivia</td>\n",
       "      <td>2.6</td>\n",
       "      <td>1</td>\n",
       "    </tr>\n",
       "  </tbody>\n",
       "</table>\n",
       "</div>"
      ],
      "text/plain": [
       "        años       pais  valor  cant\n",
       "uno     1990  venezuela    1.5     1\n",
       "dos     2000  venezuela    2.0     1\n",
       "tres    2001  venezuela    2.1     1\n",
       "cuatro  2002   colombia    2.2     1\n",
       "cinco   2003   colombia    2.3     1\n",
       "seis    2004   colombia    2.4     1\n",
       "siete   2005       peru    2.5     1\n",
       "ocho    2006    bolivia    2.6     1"
      ]
     },
     "execution_count": 17,
     "metadata": {},
     "output_type": "execute_result"
    }
   ],
   "source": [
    "df2[\"cant\"] = 1\n",
    "df2"
   ]
  },
  {
   "cell_type": "code",
   "execution_count": 18,
   "id": "10fc9d2b-d1b2-4cd7-924a-9824368b6fd2",
   "metadata": {},
   "outputs": [
    {
     "data": {
      "text/html": [
       "<div>\n",
       "<style scoped>\n",
       "    .dataframe tbody tr th:only-of-type {\n",
       "        vertical-align: middle;\n",
       "    }\n",
       "\n",
       "    .dataframe tbody tr th {\n",
       "        vertical-align: top;\n",
       "    }\n",
       "\n",
       "    .dataframe thead th {\n",
       "        text-align: right;\n",
       "    }\n",
       "</style>\n",
       "<table border=\"1\" class=\"dataframe\">\n",
       "  <thead>\n",
       "    <tr style=\"text-align: right;\">\n",
       "      <th></th>\n",
       "      <th>años</th>\n",
       "      <th>pais</th>\n",
       "      <th>valor</th>\n",
       "      <th>cant</th>\n",
       "    </tr>\n",
       "  </thead>\n",
       "  <tbody>\n",
       "    <tr>\n",
       "      <th>uno</th>\n",
       "      <td>1990</td>\n",
       "      <td>venezuela</td>\n",
       "      <td>1.5</td>\n",
       "      <td>0</td>\n",
       "    </tr>\n",
       "    <tr>\n",
       "      <th>dos</th>\n",
       "      <td>2000</td>\n",
       "      <td>venezuela</td>\n",
       "      <td>2.0</td>\n",
       "      <td>1</td>\n",
       "    </tr>\n",
       "    <tr>\n",
       "      <th>tres</th>\n",
       "      <td>2001</td>\n",
       "      <td>venezuela</td>\n",
       "      <td>2.1</td>\n",
       "      <td>2</td>\n",
       "    </tr>\n",
       "    <tr>\n",
       "      <th>cuatro</th>\n",
       "      <td>2002</td>\n",
       "      <td>colombia</td>\n",
       "      <td>2.2</td>\n",
       "      <td>3</td>\n",
       "    </tr>\n",
       "    <tr>\n",
       "      <th>cinco</th>\n",
       "      <td>2003</td>\n",
       "      <td>colombia</td>\n",
       "      <td>2.3</td>\n",
       "      <td>4</td>\n",
       "    </tr>\n",
       "    <tr>\n",
       "      <th>seis</th>\n",
       "      <td>2004</td>\n",
       "      <td>colombia</td>\n",
       "      <td>2.4</td>\n",
       "      <td>5</td>\n",
       "    </tr>\n",
       "    <tr>\n",
       "      <th>siete</th>\n",
       "      <td>2005</td>\n",
       "      <td>peru</td>\n",
       "      <td>2.5</td>\n",
       "      <td>6</td>\n",
       "    </tr>\n",
       "    <tr>\n",
       "      <th>ocho</th>\n",
       "      <td>2006</td>\n",
       "      <td>bolivia</td>\n",
       "      <td>2.6</td>\n",
       "      <td>7</td>\n",
       "    </tr>\n",
       "  </tbody>\n",
       "</table>\n",
       "</div>"
      ],
      "text/plain": [
       "        años       pais  valor  cant\n",
       "uno     1990  venezuela    1.5     0\n",
       "dos     2000  venezuela    2.0     1\n",
       "tres    2001  venezuela    2.1     2\n",
       "cuatro  2002   colombia    2.2     3\n",
       "cinco   2003   colombia    2.3     4\n",
       "seis    2004   colombia    2.4     5\n",
       "siete   2005       peru    2.5     6\n",
       "ocho    2006    bolivia    2.6     7"
      ]
     },
     "execution_count": 18,
     "metadata": {},
     "output_type": "execute_result"
    }
   ],
   "source": [
    "df2[\"cant\"] = np.arange(8)\n",
    "df2"
   ]
  },
  {
   "cell_type": "code",
   "execution_count": 20,
   "id": "349cb640-3342-457d-b86c-3c624ad3b306",
   "metadata": {},
   "outputs": [
    {
     "data": {
      "text/html": [
       "<div>\n",
       "<style scoped>\n",
       "    .dataframe tbody tr th:only-of-type {\n",
       "        vertical-align: middle;\n",
       "    }\n",
       "\n",
       "    .dataframe tbody tr th {\n",
       "        vertical-align: top;\n",
       "    }\n",
       "\n",
       "    .dataframe thead th {\n",
       "        text-align: right;\n",
       "    }\n",
       "</style>\n",
       "<table border=\"1\" class=\"dataframe\">\n",
       "  <thead>\n",
       "    <tr style=\"text-align: right;\">\n",
       "      <th></th>\n",
       "      <th>CÓDIGOARTÍCULO</th>\n",
       "      <th>SECCIÓN</th>\n",
       "      <th>NOMBREARTÍCULO</th>\n",
       "      <th>PRECIO</th>\n",
       "      <th>FECHA</th>\n",
       "      <th>IMPORTADO</th>\n",
       "      <th>PAÍSDEORIGEN</th>\n",
       "      <th>FOTO</th>\n",
       "    </tr>\n",
       "  </thead>\n",
       "  <tbody>\n",
       "    <tr>\n",
       "      <th>0</th>\n",
       "      <td>AR50</td>\n",
       "      <td>ALTA COSTURA</td>\n",
       "      <td>TRAJE CABALLERO</td>\n",
       "      <td>1,284.58</td>\n",
       "      <td>11/03/2002</td>\n",
       "      <td>VERDADERO</td>\n",
       "      <td>ITALIA</td>\n",
       "      <td>NaN</td>\n",
       "    </tr>\n",
       "    <tr>\n",
       "      <th>1</th>\n",
       "      <td>AR51</td>\n",
       "      <td>DEPORTES DE RIESGO</td>\n",
       "      <td>RAQUETA TENIS</td>\n",
       "      <td>1,093.47</td>\n",
       "      <td>20/03/2000</td>\n",
       "      <td>VERDADERO</td>\n",
       "      <td>USA</td>\n",
       "      <td>NaN</td>\n",
       "    </tr>\n",
       "    <tr>\n",
       "      <th>2</th>\n",
       "      <td>AR52</td>\n",
       "      <td>DEPORTES DE RIESGO</td>\n",
       "      <td>MANCUERNAS</td>\n",
       "      <td>1,060.00</td>\n",
       "      <td>13/09/2000</td>\n",
       "      <td>VERDADERO</td>\n",
       "      <td>USA</td>\n",
       "      <td>NaN</td>\n",
       "    </tr>\n",
       "    <tr>\n",
       "      <th>3</th>\n",
       "      <td>AR53</td>\n",
       "      <td>ALTA COSTURA</td>\n",
       "      <td>SERRUCHO</td>\n",
       "      <td>1,030.20</td>\n",
       "      <td>23/03/2001</td>\n",
       "      <td>VERDADERO</td>\n",
       "      <td>FRANCIA</td>\n",
       "      <td>NaN</td>\n",
       "    </tr>\n",
       "    <tr>\n",
       "      <th>4</th>\n",
       "      <td>AR54</td>\n",
       "      <td>ALTA COSTURA</td>\n",
       "      <td>PANTALÓN SEÑORA</td>\n",
       "      <td>1,174.23</td>\n",
       "      <td>10/01/2000</td>\n",
       "      <td>VERDADERO</td>\n",
       "      <td>MARRUECOS</td>\n",
       "      <td>NaN</td>\n",
       "    </tr>\n",
       "  </tbody>\n",
       "</table>\n",
       "</div>"
      ],
      "text/plain": [
       "  CÓDIGOARTÍCULO             SECCIÓN   NOMBREARTÍCULO    PRECIO       FECHA  \\\n",
       "0           AR50        ALTA COSTURA  TRAJE CABALLERO  1,284.58  11/03/2002   \n",
       "1           AR51  DEPORTES DE RIESGO    RAQUETA TENIS  1,093.47  20/03/2000   \n",
       "2           AR52  DEPORTES DE RIESGO       MANCUERNAS  1,060.00  13/09/2000   \n",
       "3           AR53        ALTA COSTURA         SERRUCHO  1,030.20  23/03/2001   \n",
       "4           AR54        ALTA COSTURA  PANTALÓN SEÑORA  1,174.23  10/01/2000   \n",
       "\n",
       "   IMPORTADO PAÍSDEORIGEN  FOTO  \n",
       "0  VERDADERO       ITALIA   NaN  \n",
       "1  VERDADERO          USA   NaN  \n",
       "2  VERDADERO          USA   NaN  \n",
       "3  VERDADERO      FRANCIA   NaN  \n",
       "4  VERDADERO    MARRUECOS   NaN  "
      ]
     },
     "execution_count": 20,
     "metadata": {},
     "output_type": "execute_result"
    }
   ],
   "source": [
    "productos = pd.read_csv(\"ProductosNuevos.csv\")\n",
    "productos.head(5)"
   ]
  },
  {
   "cell_type": "code",
   "execution_count": 21,
   "id": "7f506c21-443e-40a2-81e6-0c73f8619f15",
   "metadata": {},
   "outputs": [
    {
     "data": {
      "text/plain": [
       "array([20, 21, 22, 23, 24])"
      ]
     },
     "execution_count": 21,
     "metadata": {},
     "output_type": "execute_result"
    }
   ],
   "source": [
    "a = np.arange(5)\n",
    "a + 20"
   ]
  },
  {
   "cell_type": "code",
   "execution_count": null,
   "id": "fdb35f44-fee8-4fd0-8e9d-934118c53883",
   "metadata": {},
   "outputs": [],
   "source": []
  },
  {
   "cell_type": "code",
   "execution_count": null,
   "id": "a304f47a-bb53-4d67-82c2-9e35bcb32fe7",
   "metadata": {},
   "outputs": [],
   "source": []
  }
 ],
 "metadata": {
  "kernelspec": {
   "display_name": "Python 3",
   "language": "python",
   "name": "python3"
  },
  "language_info": {
   "codemirror_mode": {
    "name": "ipython",
    "version": 3
   },
   "file_extension": ".py",
   "mimetype": "text/x-python",
   "name": "python",
   "nbconvert_exporter": "python",
   "pygments_lexer": "ipython3",
   "version": "3.8.8"
  }
 },
 "nbformat": 4,
 "nbformat_minor": 5
}
